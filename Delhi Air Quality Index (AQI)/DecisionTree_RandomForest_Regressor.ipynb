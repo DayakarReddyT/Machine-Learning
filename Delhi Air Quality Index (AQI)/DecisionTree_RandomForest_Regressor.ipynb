{
 "cells": [
  {
   "cell_type": "code",
   "execution_count": 1,
   "metadata": {},
   "outputs": [],
   "source": [
    "import pandas as pd\n",
    "import numpy as np\n",
    "import matplotlib.pyplot as plt\n",
    "import seaborn as sns\n",
    "\n",
    "from sklearn.model_selection import train_test_split\n",
    "from sklearn.metrics import r2_score , mean_squared_error\n",
    "\n",
    "from sklearn.model_selection import GridSearchCV,RandomizedSearchCV\n",
    "\n",
    "import pickle"
   ]
  },
  {
   "cell_type": "code",
   "execution_count": 2,
   "metadata": {},
   "outputs": [],
   "source": [
    "# Lets read the proeccessed data \n",
    "\n",
    "df=pd.read_csv(\"C:/Users/Daya/Desktop/DataSets/AQI/final_data.csv\")"
   ]
  },
  {
   "cell_type": "code",
   "execution_count": 3,
   "metadata": {},
   "outputs": [
    {
     "data": {
      "text/html": [
       "<div>\n",
       "<style scoped>\n",
       "    .dataframe tbody tr th:only-of-type {\n",
       "        vertical-align: middle;\n",
       "    }\n",
       "\n",
       "    .dataframe tbody tr th {\n",
       "        vertical-align: top;\n",
       "    }\n",
       "\n",
       "    .dataframe thead th {\n",
       "        text-align: right;\n",
       "    }\n",
       "</style>\n",
       "<table border=\"1\" class=\"dataframe\">\n",
       "  <thead>\n",
       "    <tr style=\"text-align: right;\">\n",
       "      <th></th>\n",
       "      <th>T</th>\n",
       "      <th>TM</th>\n",
       "      <th>Tm</th>\n",
       "      <th>SLP</th>\n",
       "      <th>H</th>\n",
       "      <th>VV</th>\n",
       "      <th>V</th>\n",
       "      <th>VM</th>\n",
       "      <th>PM 2.5</th>\n",
       "    </tr>\n",
       "  </thead>\n",
       "  <tbody>\n",
       "    <tr>\n",
       "      <th>0</th>\n",
       "      <td>0.022013</td>\n",
       "      <td>0.000000</td>\n",
       "      <td>0.146789</td>\n",
       "      <td>0.823344</td>\n",
       "      <td>0.935897</td>\n",
       "      <td>0.036364</td>\n",
       "      <td>0.162500</td>\n",
       "      <td>0.134650</td>\n",
       "      <td>219.720833</td>\n",
       "    </tr>\n",
       "    <tr>\n",
       "      <th>1</th>\n",
       "      <td>0.034591</td>\n",
       "      <td>0.081232</td>\n",
       "      <td>0.134557</td>\n",
       "      <td>0.851735</td>\n",
       "      <td>0.858974</td>\n",
       "      <td>0.054545</td>\n",
       "      <td>0.166667</td>\n",
       "      <td>0.165171</td>\n",
       "      <td>182.187500</td>\n",
       "    </tr>\n",
       "    <tr>\n",
       "      <th>2</th>\n",
       "      <td>0.000000</td>\n",
       "      <td>0.100840</td>\n",
       "      <td>0.073394</td>\n",
       "      <td>0.880126</td>\n",
       "      <td>0.794872</td>\n",
       "      <td>0.054545</td>\n",
       "      <td>0.183333</td>\n",
       "      <td>0.165171</td>\n",
       "      <td>154.037500</td>\n",
       "    </tr>\n",
       "    <tr>\n",
       "      <th>3</th>\n",
       "      <td>0.059748</td>\n",
       "      <td>0.159664</td>\n",
       "      <td>0.100917</td>\n",
       "      <td>0.858044</td>\n",
       "      <td>0.666667</td>\n",
       "      <td>0.090909</td>\n",
       "      <td>0.320833</td>\n",
       "      <td>0.335727</td>\n",
       "      <td>223.208333</td>\n",
       "    </tr>\n",
       "    <tr>\n",
       "      <th>4</th>\n",
       "      <td>0.179245</td>\n",
       "      <td>0.310924</td>\n",
       "      <td>0.134557</td>\n",
       "      <td>0.813880</td>\n",
       "      <td>0.525641</td>\n",
       "      <td>0.181818</td>\n",
       "      <td>0.345833</td>\n",
       "      <td>0.364452</td>\n",
       "      <td>200.645833</td>\n",
       "    </tr>\n",
       "  </tbody>\n",
       "</table>\n",
       "</div>"
      ],
      "text/plain": [
       "          T        TM        Tm       SLP         H        VV         V  \\\n",
       "0  0.022013  0.000000  0.146789  0.823344  0.935897  0.036364  0.162500   \n",
       "1  0.034591  0.081232  0.134557  0.851735  0.858974  0.054545  0.166667   \n",
       "2  0.000000  0.100840  0.073394  0.880126  0.794872  0.054545  0.183333   \n",
       "3  0.059748  0.159664  0.100917  0.858044  0.666667  0.090909  0.320833   \n",
       "4  0.179245  0.310924  0.134557  0.813880  0.525641  0.181818  0.345833   \n",
       "\n",
       "         VM      PM 2.5  \n",
       "0  0.134650  219.720833  \n",
       "1  0.165171  182.187500  \n",
       "2  0.165171  154.037500  \n",
       "3  0.335727  223.208333  \n",
       "4  0.364452  200.645833  "
      ]
     },
     "execution_count": 3,
     "metadata": {},
     "output_type": "execute_result"
    }
   ],
   "source": [
    "df.head()"
   ]
  },
  {
   "cell_type": "code",
   "execution_count": 4,
   "metadata": {},
   "outputs": [],
   "source": [
    "# Independent Features \n",
    "x=df.drop('PM 2.5',axis=1)\n",
    "\n",
    "# Dependent Features \n",
    "y=df['PM 2.5']"
   ]
  },
  {
   "cell_type": "code",
   "execution_count": 5,
   "metadata": {},
   "outputs": [],
   "source": [
    "# SPlit the data in train and test\n",
    "\n",
    "x_train,x_test,y_train,y_test = train_test_split(x,y,test_size=0.2,random_state=42)"
   ]
  },
  {
   "cell_type": "markdown",
   "metadata": {},
   "source": [
    "# Decision Tree Regressor"
   ]
  },
  {
   "cell_type": "code",
   "execution_count": 6,
   "metadata": {},
   "outputs": [],
   "source": [
    "from sklearn.tree import DecisionTreeRegressor\n",
    "\n",
    "tree_regression=DecisionTreeRegressor()\n",
    "\n",
    "# We will try wihtout gird search cv "
   ]
  },
  {
   "cell_type": "code",
   "execution_count": 7,
   "metadata": {},
   "outputs": [
    {
     "data": {
      "text/plain": [
       "DecisionTreeRegressor(ccp_alpha=0.0, criterion='mse', max_depth=None,\n",
       "                      max_features=None, max_leaf_nodes=None,\n",
       "                      min_impurity_decrease=0.0, min_impurity_split=None,\n",
       "                      min_samples_leaf=1, min_samples_split=2,\n",
       "                      min_weight_fraction_leaf=0.0, presort='deprecated',\n",
       "                      random_state=None, splitter='best')"
      ]
     },
     "execution_count": 7,
     "metadata": {},
     "output_type": "execute_result"
    }
   ],
   "source": [
    "tree_regression.fit(x_train,y_train)"
   ]
  },
  {
   "cell_type": "code",
   "execution_count": 8,
   "metadata": {},
   "outputs": [],
   "source": [
    "tree_pred=tree_regression.predict(x_test)"
   ]
  },
  {
   "cell_type": "code",
   "execution_count": 9,
   "metadata": {},
   "outputs": [
    {
     "name": "stdout",
     "output_type": "stream",
     "text": [
      "ACCURACY: 0.6291719474969304\n",
      "RMSE: 48.19252512144572\n",
      "MSE: 2322.519477581177\n"
     ]
    }
   ],
   "source": [
    "print(\"ACCURACY:\", r2_score(y_test, tree_pred))\n",
    "print(\"RMSE:\", np.sqrt(mean_squared_error(y_test, tree_pred)))\n",
    "print(\"MSE:\", mean_squared_error(y_test, tree_pred))"
   ]
  },
  {
   "cell_type": "code",
   "execution_count": 10,
   "metadata": {},
   "outputs": [],
   "source": [
    "# Let's try out grid search and see whether we can get better result than this"
   ]
  },
  {
   "cell_type": "code",
   "execution_count": 11,
   "metadata": {},
   "outputs": [],
   "source": [
    "dtr_params = dict(max_depth=[3,5,8,10,15,17,None], max_features=[\"sqrt\",\"log2\",\"auto\",None],\n",
    "                  max_leaf_nodes=[None, 10,20,30,40,50,60,70,80,90,100],\n",
    "                  min_weight_fraction_leaf = [0.0,0.1,0.5,0.2,0.25,0.3,0.35,0.4,0.5],\n",
    "                  splitter=['best', \"random\"],min_samples_leaf=[1,2,3,4,5] )"
   ]
  },
  {
   "cell_type": "code",
   "execution_count": 12,
   "metadata": {},
   "outputs": [],
   "source": [
    "tree_regressor=GridSearchCV(tree_regression,cv=5,param_grid=dtr_params,verbose=1,scoring=\"neg_mean_squared_error\")"
   ]
  },
  {
   "cell_type": "code",
   "execution_count": 13,
   "metadata": {},
   "outputs": [
    {
     "name": "stdout",
     "output_type": "stream",
     "text": [
      "Fitting 5 folds for each of 27720 candidates, totalling 138600 fits\n"
     ]
    },
    {
     "name": "stderr",
     "output_type": "stream",
     "text": [
      "[Parallel(n_jobs=1)]: Using backend SequentialBackend with 1 concurrent workers.\n",
      "[Parallel(n_jobs=1)]: Done 138600 out of 138600 | elapsed:  7.2min finished\n"
     ]
    }
   ],
   "source": [
    "tree_regressor.fit(x_train,y_train)\n",
    "\n",
    "tree_pred=tree_regressor.predict(x_test)"
   ]
  },
  {
   "cell_type": "code",
   "execution_count": 14,
   "metadata": {},
   "outputs": [
    {
     "data": {
      "text/plain": [
       "{'max_depth': 15,\n",
       " 'max_features': 'auto',\n",
       " 'max_leaf_nodes': None,\n",
       " 'min_samples_leaf': 2,\n",
       " 'min_weight_fraction_leaf': 0.0,\n",
       " 'splitter': 'random'}"
      ]
     },
     "execution_count": 14,
     "metadata": {},
     "output_type": "execute_result"
    }
   ],
   "source": [
    "tree_regressor.best_params_"
   ]
  },
  {
   "cell_type": "code",
   "execution_count": 15,
   "metadata": {},
   "outputs": [
    {
     "name": "stdout",
     "output_type": "stream",
     "text": [
      "ACCURACY: 0.5408074817000483\n",
      "RMSE: 53.627900380405315\n",
      "MSE: 2875.9516992106765\n"
     ]
    }
   ],
   "source": [
    "print(\"ACCURACY:\", r2_score(y_test, tree_pred))\n",
    "print(\"RMSE:\", np.sqrt(mean_squared_error(y_test, tree_pred)))\n",
    "print(\"MSE:\", mean_squared_error(y_test, tree_pred))"
   ]
  },
  {
   "cell_type": "markdown",
   "metadata": {},
   "source": [
    "# Random Forest Regression"
   ]
  },
  {
   "cell_type": "code",
   "execution_count": 16,
   "metadata": {},
   "outputs": [
    {
     "data": {
      "text/plain": [
       "RandomForestRegressor(bootstrap=True, ccp_alpha=0.0, criterion='mse',\n",
       "                      max_depth=None, max_features='auto', max_leaf_nodes=None,\n",
       "                      max_samples=None, min_impurity_decrease=0.0,\n",
       "                      min_impurity_split=None, min_samples_leaf=1,\n",
       "                      min_samples_split=2, min_weight_fraction_leaf=0.0,\n",
       "                      n_estimators=100, n_jobs=None, oob_score=False,\n",
       "                      random_state=None, verbose=0, warm_start=False)"
      ]
     },
     "execution_count": 16,
     "metadata": {},
     "output_type": "execute_result"
    }
   ],
   "source": [
    "from sklearn.ensemble import RandomForestRegressor\n",
    "\n",
    "ran_for= RandomForestRegressor()\n",
    "\n",
    "ran_for.fit(x_train,y_train)"
   ]
  },
  {
   "cell_type": "code",
   "execution_count": 17,
   "metadata": {},
   "outputs": [],
   "source": [
    "ren_pred= ran_for.predict(x_test)"
   ]
  },
  {
   "cell_type": "code",
   "execution_count": 18,
   "metadata": {},
   "outputs": [
    {
     "name": "stdout",
     "output_type": "stream",
     "text": [
      "ACCURACY: 0.781106826960166\n",
      "RMSE: 37.0262305177177\n",
      "MSE: 1370.9417463511695\n"
     ]
    }
   ],
   "source": [
    "print(\"ACCURACY:\", r2_score(y_test, ren_pred))\n",
    "print(\"RMSE:\", np.sqrt(mean_squared_error(y_test, ren_pred)))\n",
    "print(\"MSE:\", mean_squared_error(y_test, ren_pred))"
   ]
  },
  {
   "cell_type": "markdown",
   "metadata": {},
   "source": [
    "### HyperParameter Tuning"
   ]
  },
  {
   "cell_type": "code",
   "execution_count": 19,
   "metadata": {},
   "outputs": [],
   "source": [
    "\n",
    "paramters = dict(max_depth=[int(x) for x in np.linspace(5, 30, num = 6)],\n",
    "                 max_features=['auto', \"log2\", \"sqrt\", None],\n",
    "                 min_samples_leaf=[1,2,5,10,15],\n",
    "                 min_samples_split=[2, 5, 10,15,100],\n",
    "                 min_weight_fraction_leaf=[0.0,0.05,0.5],\n",
    "                 n_estimators=[int(x) for x in np.linspace(start = 100, stop = 1200, num = 12)])"
   ]
  },
  {
   "cell_type": "code",
   "execution_count": 20,
   "metadata": {},
   "outputs": [
    {
     "name": "stdout",
     "output_type": "stream",
     "text": [
      "Fitting 5 folds for each of 100 candidates, totalling 500 fits\n"
     ]
    },
    {
     "name": "stderr",
     "output_type": "stream",
     "text": [
      "[Parallel(n_jobs=1)]: Using backend SequentialBackend with 1 concurrent workers.\n",
      "[Parallel(n_jobs=1)]: Done 500 out of 500 | elapsed:  6.8min finished\n"
     ]
    },
    {
     "data": {
      "text/plain": [
       "RandomizedSearchCV(cv=5, error_score=nan,\n",
       "                   estimator=RandomForestRegressor(bootstrap=True,\n",
       "                                                   ccp_alpha=0.0,\n",
       "                                                   criterion='mse',\n",
       "                                                   max_depth=None,\n",
       "                                                   max_features='auto',\n",
       "                                                   max_leaf_nodes=None,\n",
       "                                                   max_samples=None,\n",
       "                                                   min_impurity_decrease=0.0,\n",
       "                                                   min_impurity_split=None,\n",
       "                                                   min_samples_leaf=1,\n",
       "                                                   min_samples_split=2,\n",
       "                                                   min_weight_fraction_leaf=0.0,\n",
       "                                                   n_estimators=100,\n",
       "                                                   n_jobs=None, oob_score=Fals...\n",
       "                   param_distributions={'max_depth': [5, 10, 15, 20, 25, 30],\n",
       "                                        'max_features': ['auto', 'log2', 'sqrt',\n",
       "                                                         None],\n",
       "                                        'min_samples_leaf': [1, 2, 5, 10, 15],\n",
       "                                        'min_samples_split': [2, 5, 10, 15,\n",
       "                                                              100],\n",
       "                                        'min_weight_fraction_leaf': [0.0, 0.05,\n",
       "                                                                     0.5],\n",
       "                                        'n_estimators': [100, 200, 300, 400,\n",
       "                                                         500, 600, 700, 800,\n",
       "                                                         900, 1000, 1100,\n",
       "                                                         1200]},\n",
       "                   pre_dispatch='2*n_jobs', random_state=None, refit=True,\n",
       "                   return_train_score=False, scoring='neg_mean_squared_error',\n",
       "                   verbose=1)"
      ]
     },
     "execution_count": 20,
     "metadata": {},
     "output_type": "execute_result"
    }
   ],
   "source": [
    "from sklearn.model_selection import RandomizedSearchCV\n",
    "\n",
    "rfr=RandomForestRegressor()\n",
    "random_forest_regressor = RandomizedSearchCV(rfr, paramters, scoring = \"neg_mean_squared_error\", cv = 5, verbose = 1,n_iter=100)\n",
    "random_forest_regressor.fit(x_train,y_train)"
   ]
  },
  {
   "cell_type": "code",
   "execution_count": 24,
   "metadata": {},
   "outputs": [
    {
     "data": {
      "text/plain": [
       "{'n_estimators': 800,\n",
       " 'min_weight_fraction_leaf': 0.0,\n",
       " 'min_samples_split': 5,\n",
       " 'min_samples_leaf': 1,\n",
       " 'max_features': 'auto',\n",
       " 'max_depth': 30}"
      ]
     },
     "execution_count": 24,
     "metadata": {},
     "output_type": "execute_result"
    }
   ],
   "source": [
    "random_forest_regressor.best_params_"
   ]
  },
  {
   "cell_type": "code",
   "execution_count": 25,
   "metadata": {},
   "outputs": [
    {
     "data": {
      "text/plain": [
       "-1318.3350211824843"
      ]
     },
     "execution_count": 25,
     "metadata": {},
     "output_type": "execute_result"
    }
   ],
   "source": [
    "random_forest_regressor.best_score_"
   ]
  },
  {
   "cell_type": "code",
   "execution_count": 21,
   "metadata": {},
   "outputs": [],
   "source": [
    "ran_predict=random_forest_regressor.predict(x_test)"
   ]
  },
  {
   "cell_type": "code",
   "execution_count": 22,
   "metadata": {},
   "outputs": [
    {
     "name": "stdout",
     "output_type": "stream",
     "text": [
      "ACCURACY: 0.7677104024212886\n",
      "RMSE: 38.14242255060474\n",
      "MSE: 1454.8443980288814\n"
     ]
    }
   ],
   "source": [
    "print(\"ACCURACY:\", r2_score(y_test, ran_predict))\n",
    "print(\"RMSE:\", np.sqrt(mean_squared_error(y_test, ran_predict)))\n",
    "print(\"MSE:\", mean_squared_error(y_test, ran_predict))"
   ]
  },
  {
   "cell_type": "code",
   "execution_count": 23,
   "metadata": {},
   "outputs": [
    {
     "data": {
      "text/plain": [
       "<matplotlib.axes._subplots.AxesSubplot at 0x218502c05c0>"
      ]
     },
     "execution_count": 23,
     "metadata": {},
     "output_type": "execute_result"
    },
    {
     "data": {
      "image/png": "[encoded data removed]",
      "text/plain": [
       "<Figure size 432x288 with 1 Axes>"
      ]
     },
     "metadata": {
      "needs_background": "light"
     },
     "output_type": "display_data"
    }
   ],
   "source": [
    "residual_random_forest = y_test - ran_predict\n",
    "sns.distplot(residual_random_forest)"
   ]
  },
  {
   "cell_type": "code",
   "execution_count": null,
   "metadata": {},
   "outputs": [],
   "source": [
    "import pickle\n",
    "random_forest_file = open(\"random_forest.pkl\", \"wb\")\n",
    "pickle.dump(random_forest_regressor, random_forest_file)"
   ]
  },
  {
   "cell_type": "code",
   "execution_count": null,
   "metadata": {},
   "outputs": [],
   "source": []
  }
 ],
 "metadata": {
  "kernelspec": {
   "display_name": "Python 3",
   "language": "python",
   "name": "python3"
  },
  "language_info": {
   "codemirror_mode": {
    "name": "ipython",
    "version": 3
   },
   "file_extension": ".py",
   "mimetype": "text/x-python",
   "name": "python",
   "nbconvert_exporter": "python",
   "pygments_lexer": "ipython3",
   "version": "3.7.3"
  }
 },
 "nbformat": 4,
 "nbformat_minor": 2
}
