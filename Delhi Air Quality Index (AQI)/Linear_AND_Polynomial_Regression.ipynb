{
 "cells": [
  {
   "cell_type": "code",
   "execution_count": 1,
   "metadata": {},
   "outputs": [],
   "source": [
    "import pandas as pd\n",
    "import numpy as np\n",
    "import matplotlib.pyplot as plt\n",
    "import seaborn as sns\n",
    "\n",
    "from sklearn.model_selection import train_test_split\n",
    "from sklearn.metrics import r2_score , mean_squared_error\n",
    "\n",
    "import pickle"
   ]
  },
  {
   "cell_type": "code",
   "execution_count": 6,
   "metadata": {},
   "outputs": [],
   "source": [
    "# Lets read the proeccessed data \n",
    "\n",
    "df=pd.read_csv(\"C:/Users/Daya/Desktop/DataSets/AQI/final_data.csv\")"
   ]
  },
  {
   "cell_type": "code",
   "execution_count": 7,
   "metadata": {},
   "outputs": [
    {
     "data": {
      "text/html": [
       "<div>\n",
       "<style scoped>\n",
       "    .dataframe tbody tr th:only-of-type {\n",
       "        vertical-align: middle;\n",
       "    }\n",
       "\n",
       "    .dataframe tbody tr th {\n",
       "        vertical-align: top;\n",
       "    }\n",
       "\n",
       "    .dataframe thead th {\n",
       "        text-align: right;\n",
       "    }\n",
       "</style>\n",
       "<table border=\"1\" class=\"dataframe\">\n",
       "  <thead>\n",
       "    <tr style=\"text-align: right;\">\n",
       "      <th></th>\n",
       "      <th>T</th>\n",
       "      <th>TM</th>\n",
       "      <th>Tm</th>\n",
       "      <th>SLP</th>\n",
       "      <th>H</th>\n",
       "      <th>VV</th>\n",
       "      <th>V</th>\n",
       "      <th>VM</th>\n",
       "      <th>PM 2.5</th>\n",
       "    </tr>\n",
       "  </thead>\n",
       "  <tbody>\n",
       "    <tr>\n",
       "      <th>0</th>\n",
       "      <td>0.022013</td>\n",
       "      <td>0.000000</td>\n",
       "      <td>0.146789</td>\n",
       "      <td>0.823344</td>\n",
       "      <td>0.935897</td>\n",
       "      <td>0.036364</td>\n",
       "      <td>0.162500</td>\n",
       "      <td>0.134650</td>\n",
       "      <td>219.720833</td>\n",
       "    </tr>\n",
       "    <tr>\n",
       "      <th>1</th>\n",
       "      <td>0.034591</td>\n",
       "      <td>0.081232</td>\n",
       "      <td>0.134557</td>\n",
       "      <td>0.851735</td>\n",
       "      <td>0.858974</td>\n",
       "      <td>0.054545</td>\n",
       "      <td>0.166667</td>\n",
       "      <td>0.165171</td>\n",
       "      <td>182.187500</td>\n",
       "    </tr>\n",
       "    <tr>\n",
       "      <th>2</th>\n",
       "      <td>0.000000</td>\n",
       "      <td>0.100840</td>\n",
       "      <td>0.073394</td>\n",
       "      <td>0.880126</td>\n",
       "      <td>0.794872</td>\n",
       "      <td>0.054545</td>\n",
       "      <td>0.183333</td>\n",
       "      <td>0.165171</td>\n",
       "      <td>154.037500</td>\n",
       "    </tr>\n",
       "    <tr>\n",
       "      <th>3</th>\n",
       "      <td>0.059748</td>\n",
       "      <td>0.159664</td>\n",
       "      <td>0.100917</td>\n",
       "      <td>0.858044</td>\n",
       "      <td>0.666667</td>\n",
       "      <td>0.090909</td>\n",
       "      <td>0.320833</td>\n",
       "      <td>0.335727</td>\n",
       "      <td>223.208333</td>\n",
       "    </tr>\n",
       "    <tr>\n",
       "      <th>4</th>\n",
       "      <td>0.179245</td>\n",
       "      <td>0.310924</td>\n",
       "      <td>0.134557</td>\n",
       "      <td>0.813880</td>\n",
       "      <td>0.525641</td>\n",
       "      <td>0.181818</td>\n",
       "      <td>0.345833</td>\n",
       "      <td>0.364452</td>\n",
       "      <td>200.645833</td>\n",
       "    </tr>\n",
       "  </tbody>\n",
       "</table>\n",
       "</div>"
      ],
      "text/plain": [
       "          T        TM        Tm       SLP         H        VV         V  \\\n",
       "0  0.022013  0.000000  0.146789  0.823344  0.935897  0.036364  0.162500   \n",
       "1  0.034591  0.081232  0.134557  0.851735  0.858974  0.054545  0.166667   \n",
       "2  0.000000  0.100840  0.073394  0.880126  0.794872  0.054545  0.183333   \n",
       "3  0.059748  0.159664  0.100917  0.858044  0.666667  0.090909  0.320833   \n",
       "4  0.179245  0.310924  0.134557  0.813880  0.525641  0.181818  0.345833   \n",
       "\n",
       "         VM      PM 2.5  \n",
       "0  0.134650  219.720833  \n",
       "1  0.165171  182.187500  \n",
       "2  0.165171  154.037500  \n",
       "3  0.335727  223.208333  \n",
       "4  0.364452  200.645833  "
      ]
     },
     "execution_count": 7,
     "metadata": {},
     "output_type": "execute_result"
    }
   ],
   "source": [
    "df.head()"
   ]
  },
  {
   "cell_type": "code",
   "execution_count": 8,
   "metadata": {},
   "outputs": [],
   "source": [
    "# Independent Features \n",
    "x=df.drop('PM 2.5',axis=1)\n",
    "\n",
    "# Dependent Features \n",
    "y=df['PM 2.5']"
   ]
  },
  {
   "cell_type": "code",
   "execution_count": 9,
   "metadata": {},
   "outputs": [],
   "source": [
    "# SPlit the data in train and test\n",
    "\n",
    "x_train,x_test,y_train,y_test = train_test_split(x,y,test_size=0.2,random_state=42)"
   ]
  },
  {
   "cell_type": "markdown",
   "metadata": {},
   "source": [
    "# Linear Regression"
   ]
  },
  {
   "cell_type": "code",
   "execution_count": 12,
   "metadata": {},
   "outputs": [],
   "source": [
    "from sklearn.linear_model import LinearRegression\n",
    "\n",
    "regressor=LinearRegression()"
   ]
  },
  {
   "cell_type": "code",
   "execution_count": 13,
   "metadata": {},
   "outputs": [
    {
     "data": {
      "text/plain": [
       "LinearRegression(copy_X=True, fit_intercept=True, n_jobs=None, normalize=False)"
      ]
     },
     "execution_count": 13,
     "metadata": {},
     "output_type": "execute_result"
    }
   ],
   "source": [
    "# Train the Model\n",
    "\n",
    "regressor.fit(x_train,y_train)"
   ]
  },
  {
   "cell_type": "code",
   "execution_count": 14,
   "metadata": {},
   "outputs": [
    {
     "data": {
      "text/plain": [
       "0.5432571322616789"
      ]
     },
     "execution_count": 14,
     "metadata": {},
     "output_type": "execute_result"
    }
   ],
   "source": [
    "# lets see how our model works train data \n",
    "\n",
    "regressor.score(x_train,y_train)"
   ]
  },
  {
   "cell_type": "code",
   "execution_count": 15,
   "metadata": {},
   "outputs": [],
   "source": [
    "# test it with real test data \n",
    "\n",
    "reg_pred=regressor.predict(x_test)"
   ]
  },
  {
   "cell_type": "code",
   "execution_count": 16,
   "metadata": {},
   "outputs": [
    {
     "name": "stdout",
     "output_type": "stream",
     "text": [
      "R2 Score : 0.48658018157060856\n",
      "RMSE     : 56.7060904977962\n"
     ]
    }
   ],
   "source": [
    "print(\"R2 Score : {0}\".format(r2_score(y_test,reg_pred)))\n",
    "print(\"RMSE     : {0}\".format(np.sqrt(mean_squared_error(y_test,reg_pred))))"
   ]
  },
  {
   "cell_type": "code",
   "execution_count": 17,
   "metadata": {},
   "outputs": [
    {
     "data": {
      "text/plain": [
       "<matplotlib.axes._subplots.AxesSubplot at 0x2c8dd290d68>"
      ]
     },
     "execution_count": 17,
     "metadata": {},
     "output_type": "execute_result"
    },
    {
     "data": {
      "image/png": "[encoded data removed]",
      "text/plain": [
       "<Figure size 432x288 with 1 Axes>"
      ]
     },
     "metadata": {
      "needs_background": "light"
     },
     "output_type": "display_data"
    }
   ],
   "source": [
    "# Residual plot\n",
    "residual = y_test - reg_pred\n",
    "sns.distplot(residual)"
   ]
  },
  {
   "cell_type": "code",
   "execution_count": null,
   "metadata": {},
   "outputs": [],
   "source": [
    "# Save the model\n",
    "\n",
    "file=open(\"AQI_lin_regression.pk1\",'wb')\n",
    "pickle.dump(regressor,file)"
   ]
  },
  {
   "cell_type": "markdown",
   "metadata": {},
   "source": [
    "# Polynomial Regression"
   ]
  },
  {
   "cell_type": "code",
   "execution_count": 18,
   "metadata": {},
   "outputs": [
    {
     "name": "stdout",
     "output_type": "stream",
     "text": [
      "Degree : 2 , Normalize : True , MSE = 2677.500377311953 , R2_Score = 0.5724934666516175 \n",
      "Degree : 2 , Normalize : False , MSE = 2677.500377311919 , R2_Score = 0.5724934666516229 \n",
      "Degree : 3 , Normalize : True , MSE = 4837.090852791184 , R2_Score = 0.2276796823296945 \n",
      "Degree : 3 , Normalize : False , MSE = 4837.090852792337 , R2_Score = 0.22767968232951052 \n",
      "Degree : 4 , Normalize : True , MSE = 135988.26791817287 , R2_Score = -20.712741288990596 \n",
      "Degree : 4 , Normalize : False , MSE = 165981.1205627695 , R2_Score = -25.501588591485852 \n",
      "Degree : 5 , Normalize : True , MSE = 4623401.671330862 , R2_Score = -737.2013603195434 \n",
      "Degree : 5 , Normalize : False , MSE = 7104524.031353072 , R2_Score = -1133.3529455570874 \n",
      "Degree : 6 , Normalize : True , MSE = 7625207.030166173 , R2_Score = -1216.4884646711878 \n",
      "Degree : 6 , Normalize : False , MSE = 9845285.850893369 , R2_Score = -1570.9601982520755 \n",
      "Degree : 7 , Normalize : True , MSE = 10922501.917965267 , R2_Score = -1742.9552838189416 \n",
      "Degree : 7 , Normalize : False , MSE = 10589625.943688149 , R2_Score = -1689.8062142598765 \n",
      "Degree : 8 , Normalize : True , MSE = 11131152.569661874 , R2_Score = -1776.2697578498467 \n",
      "Degree : 8 , Normalize : False , MSE = 11550251.830558844 , R2_Score = -1843.185779103523 \n"
     ]
    }
   ],
   "source": [
    "from sklearn.preprocessing import PolynomialFeatures\n",
    "from sklearn.model_selection import cross_val_score \n",
    "\n",
    "# We are checking the results for multiple degrees\n",
    "\n",
    "degrees = [2, 3, 4, 5, 6, 7, 8]  # Change degree \"hyperparameter\" here\n",
    "normalizes = [True, False] # Change normalize hyperparameter here\n",
    "\n",
    "for degree in degrees:\n",
    "    for normalize in normalizes:\n",
    "        poly_features = PolynomialFeatures(degree = degree)\n",
    "        X_train_poly = poly_features.fit_transform(x_train)        \n",
    "        x_test_poly=poly_features.fit_transform(x_test)\n",
    "        polynomial_regressor = LinearRegression(normalize=normalize)\n",
    "        polynomial_regressor.fit(X_train_poly, y_train)\n",
    "        poly_pred=polynomial_regressor.predict(x_test_poly)\n",
    "        \n",
    "        diff=y_test - poly_pred\n",
    "        \n",
    "        r2_poly=r2_score(y_test,poly_pred)\n",
    "        \n",
    "        mse_poly=mean_squared_error(y_test,poly_pred)\n",
    "        \n",
    "        \n",
    "        print(f\"Degree : {degree} , Normalize : {normalize} , MSE = {mse_poly} , R2_Score = {r2_poly} \")"
   ]
  },
  {
   "cell_type": "markdown",
   "metadata": {},
   "source": [
    "From the above data we can clearly see that Polynomial regression with degree 2 performing bettter than normal regression"
   ]
  },
  {
   "cell_type": "code",
   "execution_count": 20,
   "metadata": {},
   "outputs": [],
   "source": [
    "# Save the model\n",
    "\n",
    "file=open(\"AQI_Poly_regression.pk1\",'wb')\n",
    "pickle.dump(polynomial_regressor,file)"
   ]
  }
 ],
 "metadata": {
  "kernelspec": {
   "display_name": "Python 3",
   "language": "python",
   "name": "python3"
  },
  "language_info": {
   "codemirror_mode": {
    "name": "ipython",
    "version": 3
   },
   "file_extension": ".py",
   "mimetype": "text/x-python",
   "name": "python",
   "nbconvert_exporter": "python",
   "pygments_lexer": "ipython3",
   "version": "3.7.3"
  }
 },
 "nbformat": 4,
 "nbformat_minor": 2
}
